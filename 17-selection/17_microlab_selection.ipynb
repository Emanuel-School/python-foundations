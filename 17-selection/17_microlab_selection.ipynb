{
 "cells": [
  {
   "cell_type": "markdown",
   "id": "27bf7ddb",
   "metadata": {},
   "source": [
    "# Microlab 1.7 / Exploring selection in Python\n",
    "\n",
    "In this lab, you will practise using selection (`if`, `if-else`, `elif`) and logical operators to control your program's flow."
   ]
  },
  {
   "cell_type": "markdown",
   "id": "a9aab47a",
   "metadata": {},
   "source": [
    "## Task 1: Simple if statement\n",
    "\n",
    "Write a program that checks if a number is positive.\n",
    "\n",
    "- Define a variable `num` and assign it a value.\n",
    "- Use an `if` statement to print \"Positive number\" if `num` is greater than 0."
   ]
  },
  {
   "cell_type": "code",
   "execution_count": null,
   "id": "0a2ba986",
   "metadata": {},
   "outputs": [],
   "source": [
    "# Task 1 code here\n",
    "num = 5\n",
    "\n",
    "# your if statement here"
   ]
  },
  {
   "cell_type": "markdown",
   "id": "33d0d1fd",
   "metadata": {},
   "source": [
    "## Task 2: if-else\n",
    "\n",
    "Extend your program to also check if the number is zero or negative.\n",
    "\n",
    "- If the number is 0, print \"Zero\".\n",
    "- If the number is negative, print \"Negative number\"."
   ]
  },
  {
   "cell_type": "code",
   "execution_count": null,
   "id": "1043277b",
   "metadata": {},
   "outputs": [],
   "source": [
    "# Task 2 code here\n",
    "num = 0\n",
    "\n",
    "# your if-else structure here"
   ]
  },
  {
   "cell_type": "markdown",
   "id": "cd89f663",
   "metadata": {},
   "source": [
    "## Task 3: elif\n",
    "\n",
    "Now write a program that assigns a grade based on a score:\n",
    "\n",
    "- 90 and above: \"A\"\n",
    "- 80–89: \"B\"\n",
    "- 70–79: \"C\"\n",
    "- below 70: \"D\"\n",
    "\n",
    "Use `if`, `elif`, and `else` to print the correct grade."
   ]
  },
  {
   "cell_type": "code",
   "execution_count": null,
   "id": "1866cbba",
   "metadata": {},
   "outputs": [],
   "source": [
    "# Task 3 code here\n",
    "score = 85\n",
    "\n",
    "# your if-elif-else structure here"
   ]
  },
  {
   "cell_type": "markdown",
   "id": "06c786b4",
   "metadata": {},
   "source": [
    "## Task 4: Combining conditions\n",
    "\n",
    "Write a program that checks if a person can enter a restricted area.\n",
    "\n",
    "- The person must be at least 18 **and** have an ID.\n",
    "\n",
    "Use an `if` statement with `and`."
   ]
  },
  {
   "cell_type": "code",
   "execution_count": null,
   "id": "37c67aac",
   "metadata": {},
   "outputs": [],
   "source": [
    "# Task 4 code here\n",
    "age = 19\n",
    "has_id = True\n",
    "\n",
    "# your combined condition here"
   ]
  },
  {
   "cell_type": "markdown",
   "id": "87305ec5",
   "metadata": {},
   "source": [
    "## Task 5: Debugging selection\n",
    "\n",
    "This code has a bug. Fix it so it works correctly.\n",
    "\n",
    "```python\n",
    "number = 10\n",
    "if number = 10:\n",
    "print(\"Number is ten\")\n",
    "```\n",
    "\n",
    "What’s wrong? Fix the code and explain in a comment."
   ]
  },
  {
   "cell_type": "code",
   "execution_count": null,
   "id": "25f080f4",
   "metadata": {},
   "outputs": [],
   "source": [
    "# Task 5 corrected code here\n",
    "\n",
    "# your explanation as a comment"
   ]
  }
 ],
 "metadata": {},
 "nbformat": 4,
 "nbformat_minor": 5
}
